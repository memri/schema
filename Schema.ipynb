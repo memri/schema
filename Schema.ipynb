{
 "cells": [
  {
   "cell_type": "code",
   "execution_count": null,
   "metadata": {},
   "outputs": [],
   "source": [
    "%reload_ext autoreload\n",
    "%autoreload 2\n",
    "%matplotlib inline\n",
    "#default_exp scripts/schema"
   ]
  },
  {
   "cell_type": "code",
   "execution_count": null,
   "metadata": {},
   "outputs": [],
   "source": [
    "#export\n",
    "# from memri_demo import *\n",
    "from graph_client import MemriDgraphClient, Alias, link_types"
   ]
  },
  {
   "cell_type": "markdown",
   "metadata": {},
   "source": [
    "# Create connection"
   ]
  },
  {
   "cell_type": "code",
   "execution_count": null,
   "metadata": {},
   "outputs": [],
   "source": [
    "#export\n",
    "mc = MemriDgraphClient.from_ip('localhost:9080')"
   ]
  },
  {
   "cell_type": "code",
   "execution_count": null,
   "metadata": {},
   "outputs": [],
   "source": [
    "#export\n",
    "mc.drop_all()"
   ]
  },
  {
   "cell_type": "markdown",
   "metadata": {},
   "source": [
    "# Predicates and examples"
   ]
  },
  {
   "cell_type": "markdown",
   "metadata": {},
   "source": [
    "\n",
    "| Predicate   | Example                                                                                |\n",
    "|-------------|----------------------------------------------------------------------------------------|\n",
    "| isinstance  | somephoto isinstance photo; someevent isinstance event; someperson isinstance person   |\n",
    "| attends     | person attends (party)                                                                 |\n",
    "| girlfriend  | person girlfriend person                                                               |\n",
    "| contains    | photo contains (girlfriend, beach)                                                     |\n",
    "| location    | holidayevent location france                                                           |\n",
    "| from        | photo from event (this entails both photos taken at or during event)                   |\n",
    "| owner       | person owns (birthday party, holiday)                                                  |\n",
    "| grandparent | person grandparent person                                                              |\n",
    "| friend      | person friend person                                                                   |"
   ]
  },
  {
   "cell_type": "markdown",
   "metadata": {},
   "source": [
    "\n",
    "| Type   | Example                                                                                |\n",
    "|-------------|----------------------------------------------------------------------------------------|\n",
    "| Person      | Alice, Bob                                                                             |\n",
    "| Event       | Burning Man, Holiday                                                                   |\n",
    "| Photo       | IMG_0123.JPG                                                                           |\n",
    "| Object      | ball, sunglasses                                                                       |\n",
    "| Location    | France, America, Amsterdam                                                             |"
   ]
  },
  {
   "cell_type": "markdown",
   "metadata": {},
   "source": [
    "# Add schema and types show result"
   ]
  },
  {
   "cell_type": "code",
   "execution_count": null,
   "metadata": {},
   "outputs": [],
   "source": [
    "#export\n",
    "preds  = [\"subtype\", \"instance\", \"attends\", \"parent\", \"contains\", \"location\", \"from\", \"owns\", \"diet\",\n",
    "          \"friend\", \"wife\", \"husband\", \"grandparent\", \"grandmother\", \"sister\", \"brother\", \"father\", \"mother\",\n",
    "          \"boyfriend\", \"girlfriend\", \"daughter\", \"son\"]\n",
    "\n",
    "string_props  = [(x, \"string\", [\"exact\"]) for x in [\"is_type\", \"name\", 'confidence', 'profile_picture']]\n",
    "props         = string_props + [(\"creationdate\", \"DateTime\", []), (\"aliases\", \"[string]\", [])]\n",
    "\n",
    "mc.add_schema_from_properties_and_predicates(preds, props)"
   ]
  },
  {
   "cell_type": "markdown",
   "metadata": {},
   "source": [
    "# Type hierarchy and aliases"
   ]
  },
  {
   "cell_type": "code",
   "execution_count": null,
   "metadata": {},
   "outputs": [],
   "source": [
    "#export\n",
    "\n",
    "TARGET_OBJECTS = [\"Outdoors\", \"Nature\", \"Horse\", \"Car\", \"Baby\", \"Tree\", \"Food\", \"Sea \", \"Ocean\", \"Beach\", \"Boat\",\n",
    "                  \"Phone\", \"Cell Phone\", \"Drink\", \"Bike\", \"Flower\", \"Coast\", \"Screen\", \"Night Life\", \"Text\", \"Document\",\n",
    "                  \"Sunlight\", \"Bird\", \"Newborn\", \"Grass\", \"Sunset\", \"Helmet\", \"Tree Trunk\", \"Hot Air Balloon\", \"Summer\",\n",
    "                  \"Bowl\", \"Coffee Cup\", \"Tropical\", \"Kissing\", \"Fog\", \"Selfie\", \"Horse\", \"Cake\", \"Horse Cart\"]\n",
    "\n",
    "types = {\n",
    "    \"photo\": None,\n",
    "    \"person\": None,\n",
    "    \"object\": {\n",
    "        o.lower(): None for o in TARGET_OBJECTS\n",
    "    },\n",
    "    \"location\": {\n",
    "        \"city\": None,\n",
    "        \"country\": None,\n",
    "        \"restaurant\": None,\n",
    "        \"island\": None\n",
    "    },\n",
    "    \"event\": {\n",
    "        \"trip\": {\n",
    "            \"sailing trip\": None\n",
    "        },\n",
    "        \"conference\": {\n",
    "            \"google conference\": None,\n",
    "            \"atlassian conference\": None\n",
    "        },\n",
    "        \"bike ride\": None,\n",
    "        \"birthday\": None,\n",
    "        \"night out\": None,\n",
    "        \"visit\": None,\n",
    "        \"party\": {\n",
    "            \"birthday party\": None,\n",
    "            \"dinner party\": None\n",
    "        },\n",
    "        \"anniversary\": None,\n",
    "        \"dinner\": {\n",
    "            \"birthday dinner\": None,\n",
    "            \"anniversary dinner\": None,\n",
    "            \"engagement dinner\": None\n",
    "        },\n",
    "        \"family weekend\": None,\n",
    "        \"wedding\": None,\n",
    "        \"festival\": {\n",
    "            \"burning man\": None\n",
    "        },\n",
    "        \"meeting\": {\n",
    "            \"current meeting\": None,\n",
    "            \"show and tell\": None,\n",
    "            \"weekly ai meeting\": None\n",
    "        },\n",
    "        \"dawson dance\": None,\n",
    "        \"icebong\": None,\n",
    "        \"new years eve\": None,\n",
    "        \"public holiday\": {\n",
    "            \"kingsday\": None\n",
    "        }\n",
    "    }\n",
    "}"
   ]
  },
  {
   "cell_type": "code",
   "execution_count": null,
   "metadata": {},
   "outputs": [],
   "source": [
    "#export\n",
    "custom_aliases = {\"trip\": [Alias(\"trip\"), Alias(\"journey\")],\n",
    "                  \"night out\": [Alias(\"night out\", False), Alias(\"nights out\", False)],\n",
    "                  \"bike ride\": [Alias(\"bike ride\", False), Alias(\"bike rides\", False),\n",
    "                                   Alias(\"bicycle tour\")],\n",
    "                  \"google conference\": [Alias(\"google io\"), Alias(\"google conference\"),\n",
    "                                        Alias(\"google seminar\"), Alias(\"google symposion\")],\n",
    "                  \"atlassian conference\": [Alias(\"atlassian conference\"), Alias(\"atlassian summit\"),\n",
    "                                           Alias(\"atlassian symposion\"), Alias(\"atlassian seminar\")],\n",
    "                  \"dawson dance\": [Alias(\"dawson dance\"), Alias(\"dawson\")],\n",
    "                  \"sailing trip\": [Alias(\"sailing\"), Alias(\"sailing trip\")],\n",
    "                  \"burning man\": [Alias(\"burning man\"), Alias(\"burning mans\"), Alias(\"the burn\")],\n",
    "                  \"family weekend\": [Alias(\"family weekdend\"), Alias(\"family trip\"), Alias(\"family trips\")]}"
   ]
  },
  {
   "cell_type": "code",
   "execution_count": null,
   "metadata": {},
   "outputs": [],
   "source": [
    "#export\n",
    "link_types(mc, types, custom_aliases);"
   ]
  },
  {
   "cell_type": "code",
   "execution_count": null,
   "metadata": {},
   "outputs": [],
   "source": [
    "schema_df, type_df = mc.schema_df(), mc.type_df()\n",
    "display(schema_df); display(type_df)"
   ]
  },
  {
   "cell_type": "code",
   "execution_count": null,
   "metadata": {},
   "outputs": [],
   "source": [
    "mc.subtypes_from_type(\"event\", unpack=False, add_name=True)"
   ]
  },
  {
   "cell_type": "code",
   "execution_count": null,
   "metadata": {},
   "outputs": [],
   "source": [
    "mc.subtypes_from_type(\"dinner\", unpack=False, add_name=True)"
   ]
  },
  {
   "cell_type": "code",
   "execution_count": null,
   "metadata": {},
   "outputs": [],
   "source": [
    "mc.subtypes_from_type(\"object\", unpack=False, add_name=True)"
   ]
  },
  {
   "cell_type": "code",
   "execution_count": null,
   "metadata": {},
   "outputs": [],
   "source": [
    "mc.uid_from_name(\"bike ride type\")"
   ]
  }
 ],
 "metadata": {
  "kernelspec": {
   "display_name": "Python 3",
   "language": "python",
   "name": "python3"
  },
  "language_info": {
   "codemirror_mode": {
    "name": "ipython",
    "version": 3
   },
   "file_extension": ".py",
   "mimetype": "text/x-python",
   "name": "python",
   "nbconvert_exporter": "python",
   "pygments_lexer": "ipython3",
   "version": "3.7.6"
  }
 },
 "nbformat": 4,
 "nbformat_minor": 2
}
